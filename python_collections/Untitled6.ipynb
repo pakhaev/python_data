{
 "cells": [
  {
   "cell_type": "code",
   "execution_count": null,
   "metadata": {},
   "outputs": [],
   "source": [
    "Дана переменная, в которой хранится слово из латинских букв. Напишите код, который выводит на экран:\n",
    "\n",
    "среднюю букву, если число букв в слове нечетное;\n",
    "две средних буквы, если число букв четное.\n",
    "Примеры работы программы:\n",
    "\n",
    "word = ‘test’\n",
    "Результат:\n",
    "es\n",
    "\n",
    "word = ‘testing’\n",
    "Результат:\n",
    "t"
   ]
  },
  {
   "cell_type": "code",
   "execution_count": 14,
   "metadata": {},
   "outputs": [
    {
     "name": "stdout",
     "output_type": "stream",
     "text": [
      "t\n"
     ]
    }
   ],
   "source": [
    "def middle_letters(word):\n",
    "    l_word = len(word)\n",
    "    if l_word % 2 == 0:\n",
    "        m_word = word[l_word // 2 - 1] + word[l_word // 2]\n",
    "        return (m_word)\n",
    "    else:\n",
    "        return (word[l_word // 2])\n",
    "\n",
    "word = \"testing\"\n",
    "print(middle_letters(word))"
   ]
  },
  {
   "cell_type": "code",
   "execution_count": null,
   "metadata": {},
   "outputs": [],
   "source": [
    "Задание 2\n",
    "Напишите программу, которая последовательно запрашивает у пользователя числа \n",
    "(по одному за раз) и после первого нуля выводит сумму всех ранее введенных чисел.\n",
    "\n",
    "Примеры работы программы:\n",
    "Введите число:\n",
    "1\n",
    "Введите число:\n",
    "4\n",
    "Введите число:\n",
    "6\n",
    "Введите число:\n",
    "0\n",
    "Результат:\n",
    "11\n",
    "\n",
    "Введите число:\n",
    "0\n",
    "Результат:\n",
    "0"
   ]
  },
  {
   "cell_type": "code",
   "execution_count": 181,
   "metadata": {},
   "outputs": [
    {
     "name": "stdout",
     "output_type": "stream",
     "text": [
      "Введите число:\n",
      "1\n",
      "Введите число:\n",
      "2\n",
      "Введите число:\n",
      "3\n",
      "Введите число:\n",
      "0\n",
      "Результат:  6\n"
     ]
    }
   ],
   "source": [
    "def loop_number():\n",
    "    number = 0\n",
    "    while (1):\n",
    "        n = int(input(\"Введите число:\\n\"))\n",
    "        if n == 0:\n",
    "            return (number)\n",
    "        number += n\n",
    "\n",
    "print(\"Результат: \", loop_number())"
   ]
  },
  {
   "cell_type": "code",
   "execution_count": null,
   "metadata": {},
   "outputs": [],
   "source": [
    "Задание 3\n",
    "Мы делаем MVP dating-сервиса, и у нас есть список парней и девушек.\n",
    "Выдвигаем гипотезу: лучшие рекомендации мы получим, если просто отсортируем имена \n",
    "по алфавиту и познакомим людей с одинаковыми индексами после сортировки! Но мы \n",
    "не будем никого знакомить, если кто-то может остаться без пары:\n",
    "\n",
    "Примеры работы программы:\n",
    "\n",
    "boys = [‘Peter’, ‘Alex’, ‘John’, ‘Arthur’, ‘Richard’]\n",
    "girls = [‘Kate’, ‘Liza’, ‘Kira’, ‘Emma’, ‘Trisha’]\n",
    "Результат:\n",
    "\n",
    "Идеальные пары:\n",
    "Alex и Emma\n",
    "Arthur и Kate\n",
    "John и Kira\n",
    "Peter и Liza\n",
    "Richard и Trisha\n",
    "boys = [‘Peter’, ‘Alex’, ‘John’, ‘Arthur’, ‘Richard’, ‘Michael’]\n",
    "girls = [‘Kate’, ‘Liza’, ‘Kira’, ‘Emma’, ‘Trisha’]\n",
    "Результат:\n",
    "Внимание, кто-то может остаться без пары!"
   ]
  },
  {
   "cell_type": "code",
   "execution_count": 42,
   "metadata": {},
   "outputs": [
    {
     "name": "stdout",
     "output_type": "stream",
     "text": [
      "Alex и Emma\n",
      "Arthur и Kate\n",
      "John и Kira\n",
      "Peter и Liza\n",
      "Richard и Trisha\n",
      "\n",
      "\n",
      "Внимание, кто-то может остаться без пары!\n"
     ]
    }
   ],
   "source": [
    "def sorted_names(boys, girls):\n",
    "    if len(boys) == len(girls):\n",
    "        arr_len = len(boys)\n",
    "        boys = sorted(boys)\n",
    "        girls = sorted(girls)\n",
    "        for i in range(arr_len):\n",
    "            print(boys[i], \"и\", girls[i])\n",
    "    else:\n",
    "        print (\"Внимание, кто-то может остаться без пары!\")\n",
    "\n",
    "boys = ['Peter', 'Alex', 'John', 'Arthur', 'Richard']\n",
    "girls = ['Kate', 'Liza', 'Kira', 'Emma', 'Trisha']\n",
    "\n",
    "sorted_names(boys, girls)\n",
    "\n",
    "boys = ['Peter', 'Alex', 'John', 'Arthur', 'Richard', 'Michael']\n",
    "girls = ['Kate', 'Liza', 'Kira', 'Emma', 'Trisha']\n",
    "print(\"\\n\")\n",
    "sorted_names(boys, girls)"
   ]
  },
  {
   "cell_type": "code",
   "execution_count": null,
   "metadata": {},
   "outputs": [],
   "source": [
    "Задание 4\n",
    "У нас есть список, содержащий информацию о среднедневной температуре в Фаренгейтах за произвольный период \n",
    "по странам (структура данных в примере). Необходимо написать код, который рассчитает среднюю температуру \n",
    "за период в Цельсиях(!) для каждой страны.\n",
    "\n",
    "Пример работы программы:\n",
    "\n",
    "countries_temperature = [\n",
    "[‘Thailand’, [75.2, 77, 78.8, 73.4, 68, 75.2, 77]],\n",
    "[‘Germany’, [57.2, 55.4, 59, 59, 53.6]],\n",
    "[‘Russia’, [35.6, 37.4, 39.2, 41, 42.8, 39.2, 35.6]],\n",
    "[‘Poland’, [50, 50, 53.6, 57.2, 55.4, 55.4]]\n",
    "]\n",
    "Результат:\n",
    "\n",
    "Средняя температура в странах:\n",
    "Thailand - 23.9 С\n",
    "Germany - 13.8 С\n",
    "Russia - 3.7 С\n",
    "Poland - 12.0 С"
   ]
  },
  {
   "cell_type": "code",
   "execution_count": 114,
   "metadata": {},
   "outputs": [
    {
     "name": "stdout",
     "output_type": "stream",
     "text": [
      "Средняя температура в странах:\n",
      "Thailand - 12.0\n",
      "Germany - 12.0\n",
      "Russia - 12.0\n",
      "Poland - 12.0\n"
     ]
    }
   ],
   "source": [
    "def mean(numbers):\n",
    "    return float(sum(numbers)) / max(len(numbers), 1)\n",
    "\n",
    "def mean_celsius(temp):\n",
    "    tmp = 0\n",
    "    for i in countries_temperature:\n",
    "        tmp = (mean(i[1]) - 32) * 5 / 9 \n",
    "        print(i[0], \"-\", round(result, 1))\n",
    "\n",
    "countries_temperature = [\n",
    "['Thailand', [75.2, 77, 78.8, 73.4, 68, 75.2, 77]],\n",
    "['Germany', [57.2, 55.4, 59, 59, 53.6]],\n",
    "['Russia', [35.6, 37.4, 39.2, 41, 42.8, 39.2, 35.6]],\n",
    "['Poland', [50, 50, 53.6, 57.2, 55.4, 55.4]]\n",
    "]\n",
    "\n",
    "\n",
    "print(\"Средняя температура в странах:\")\n",
    "mean_celsius(countries_temperature)"
   ]
  },
  {
   "cell_type": "code",
   "execution_count": null,
   "metadata": {},
   "outputs": [],
   "source": [
    "Задание 5 (необязательное)\n",
    "Дан поток логов по количеству просмотренных страниц для каждого пользователя. \n",
    "Вам необходимо написать алгоритм, который считает среднее значение просмотров на пользователя. \n",
    "Т. е. надо посчитать отношение суммы всех просмотров к количеству уникальных пользователей.\n",
    "\n",
    "Примеры работы программы:\n",
    "stream = [\n",
    "‘2018-01-01,user1,3’,\n",
    "‘2018-01-07,user1,4’,\n",
    "‘2018-03-29,user1,1’,\n",
    "‘2018-04-04,user1,13’,\n",
    "‘2018-01-05,user2,7’,\n",
    "‘2018-06-14,user3,4’,\n",
    "‘2018-07-02,user3,10’,\n",
    "‘2018-03-21,user4,19’,\n",
    "‘2018-03-22,user4,4’,\n",
    "‘2018-04-22,user4,8’,\n",
    "‘2018-05-03,user4,9’,\n",
    "‘2018-05-11,user4,11’,\n",
    "]\n",
    "Результат:\n",
    "Среднее количество просмотров на уникального пользователя: 23.25\n",
    "\n",
    "stream = [\n",
    "‘2018-01-01,user100,150’,\n",
    "‘2018-01-07,user99,205’,\n",
    "‘2018-03-29,user1001,81’\n",
    "]\n",
    "Результат:\n",
    "Среднее количество просмотров на уникального пользователя: 145.33"
   ]
  },
  {
   "cell_type": "code",
   "execution_count": 149,
   "metadata": {},
   "outputs": [
    {
     "name": "stdout",
     "output_type": "stream",
     "text": [
      "Среднее количество просмотров на уникального пользователя: 23.25\n"
     ]
    }
   ],
   "source": [
    "def mean_users(stream):\n",
    "    counts = 0\n",
    "    temp = []\n",
    "    for i in stream:\n",
    "        counts += int(i.split(\",\")[-1])\n",
    "        temp.append(i.split(\",\")[-2])\n",
    "    temp = counts / len(set(temp))\n",
    "    result = \"Среднее количество просмотров на уникального пользователя: \" + str(round(temp, 2))\n",
    "    return(result)\n",
    "\n",
    "stream = [\n",
    "'2018-01-01,user1,3',\n",
    "'2018-01-07,user1,4',\n",
    "'2018-03-29,user1,1',\n",
    "'2018-04-04,user1,13',\n",
    "'2018-01-05,user2,7',\n",
    "'2018-06-14,user3,4',\n",
    "'2018-07-02,user3,10',\n",
    "'2018-03-21,user4,19',\n",
    "'2018-03-22,user4,4',\n",
    "'2018-04-22,user4,8',\n",
    "'2018-05-03,user4,9',\n",
    "'2018-05-11,user4,11',\n",
    "]\n",
    "\n",
    "# stream = [\n",
    "# '2018-01-01,user100,150',\n",
    "# '2018-01-07,user99,205',\n",
    "# '2018-03-29,user1001,81'\n",
    "# ]\n",
    "\n",
    "print(mean_users(stream))"
   ]
  },
  {
   "cell_type": "code",
   "execution_count": null,
   "metadata": {},
   "outputs": [],
   "source": [
    "Задание 6 (необязательное)\n",
    "Необходимо у пользователя запрашивать набор чисел разделенных пробелом. \n",
    "В результате должны выводиться числа, которые повторяются в вводе более одного раза.\n",
    "\n",
    "Примеры работы программы:\n",
    "\n",
    "Введите числа:\n",
    "4 8 0 3 4 2 0 3\n",
    "Результат:\n",
    "0 3 4\n",
    "\n",
    "Введите числа:\n",
    "1 1 2 2 3 3\n",
    "Результат:\n",
    "1 2 3\n",
    "\n",
    "Введите числа:\n",
    "1 1 1 1 1 2 2 2\n",
    "Результат:\n",
    "1 2"
   ]
  },
  {
   "cell_type": "code",
   "execution_count": 178,
   "metadata": {},
   "outputs": [
    {
     "name": "stdout",
     "output_type": "stream",
     "text": [
      "Введите числа:\n",
      "1 1 2 2 3 3\n",
      "1 2 3 "
     ]
    }
   ],
   "source": [
    "def duplicate_num(numbers):\n",
    "    numbers = numbers.split(\" \")\n",
    "    arr = []\n",
    "    for i in numbers:\n",
    "        count = numbers.count(i)\n",
    "        if count > 1 and i not in arr:\n",
    "            arr.append(i)\n",
    "    for i in arr:\n",
    "        print(i, end=' ') \n",
    "\n",
    "numbers = input(\"Введите числа:\\n\")\n",
    "duplicate_num(numbers)"
   ]
  },
  {
   "cell_type": "markdown",
   "metadata": {},
   "source": []
  }
 ],
 "metadata": {
  "kernelspec": {
   "display_name": "Python 3",
   "language": "python",
   "name": "python3"
  },
  "language_info": {
   "codemirror_mode": {
    "name": "ipython",
    "version": 3
   },
   "file_extension": ".py",
   "mimetype": "text/x-python",
   "name": "python",
   "nbconvert_exporter": "python",
   "pygments_lexer": "ipython3",
   "version": "3.7.6"
  }
 },
 "nbformat": 4,
 "nbformat_minor": 4
}
