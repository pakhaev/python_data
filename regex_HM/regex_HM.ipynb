{
 "cells": [
  {
   "cell_type": "code",
   "execution_count": null,
   "metadata": {},
   "outputs": [],
   "source": [
    "Задание 1\n",
    "Напишите функцию, которая принимает на вход строку и проверяет является ли \n",
    "она валидным транспортным номером (1 буква, 3 цифры, 2 буквы, 2-3 цифры). \n",
    "Обратите внимание, что не все буквы кириллического алфавита используются в транспортных номерах.\n",
    "\n",
    "Если номер валиден, то функция должна возвращать отдельно номер и регион.\n",
    "\n",
    "Примеры работы программы:\n",
    "\n",
    "car_id = 'АВ222С96'\n",
    "Результат: Номер АВ222С валиден. Регион: 96\n",
    "\n",
    "car_id = 'АБ22ВВ193'\n",
    "Результат: Номер не валиден"
   ]
  },
  {
   "cell_type": "code",
   "execution_count": 52,
   "metadata": {},
   "outputs": [
    {
     "name": "stdout",
     "output_type": "stream",
     "text": [
      "Номер А222ВС96 валиден\n"
     ]
    }
   ],
   "source": [
    "import re\n",
    "\n",
    "def find_car_numbers(text):\n",
    "    if re.findall(r'[A-ZА-Я]{1}\\d{3}[A-ZА-Я]{2}\\d{2,3}', text):\n",
    "        return \"Номер \" + text + \" валиден\"\n",
    "    else:\n",
    "        return \"Номер не валиден\"\n",
    "\n",
    "car_id = 'А222ВС96'\n",
    "print(find_car_numbers(car_id))"
   ]
  },
  {
   "cell_type": "code",
   "execution_count": null,
   "metadata": {},
   "outputs": [],
   "source": [
    "Задание 2\n",
    "Напишите функцию, которая будет удалять все последовательные повторы слов из заданной строки при \n",
    "помощи регулярных выражений.\n",
    "\n",
    "Пример работы программы:\n",
    "\n",
    "some_string = 'Напишите функцию функцию, которая будет будет будет будет удалять все все все \\\n",
    "все последовательные повторы слов из из из из заданной строки строки при помощи регулярных выражений'\n",
    "\n",
    "Результат: Напишите функцию, которая будет удалять все последовательные повторы слов из заданной строки \n",
    "    при помощи регулярных выражений."
   ]
  },
  {
   "cell_type": "code",
   "execution_count": 49,
   "metadata": {},
   "outputs": [
    {
     "name": "stdout",
     "output_type": "stream",
     "text": [
      "Напишите функцию которая будет удалять все последовательные повторы слов из заданной строки при помощи регулярных выражений\n"
     ]
    }
   ],
   "source": [
    "import re\n",
    "\n",
    "def sub_re(text):\n",
    "    result = re.sub(r'\\b([^\\W\\d_]+)(\\s+\\1)+\\b', r'\\1', re.sub(r'\\W+', ' ', text))\n",
    "    return result\n",
    "\n",
    "some_string = 'Напишите функцию функцию, которая будет будет будет будет удалять все все все \\\n",
    "все последовательные повторы слов из из из из заданной строки строки при помощи регулярных выражений'\n",
    "print(sub_re(some_string))"
   ]
  },
  {
   "cell_type": "code",
   "execution_count": null,
   "metadata": {},
   "outputs": [],
   "source": [
    "Задание 3\n",
    "Напишите функцию, которая будет возвращать акроним по переданной в нее строке со словами.\n",
    "\n",
    "Примеры работы программы:\n",
    "\n",
    "some_words = 'Информационные технологии'\n",
    "Результат: ИТ\n",
    "\n",
    "some_words = 'Near Field Communication'\n",
    "Результат: NFC"
   ]
  },
  {
   "cell_type": "code",
   "execution_count": 62,
   "metadata": {},
   "outputs": [
    {
     "name": "stdout",
     "output_type": "stream",
     "text": [
      "ИТ\n"
     ]
    }
   ],
   "source": [
    "import re\n",
    "\n",
    "def find_acr(some_words):\n",
    "    text = re.findall(r'\\b[А-Яа-яA-Za-z]{1}', some_words)\n",
    "    result = \"\"\n",
    "    for i in text:\n",
    "        result += i.upper()\n",
    "    return result\n",
    "\n",
    "some_words = 'Информационные технологии'\n",
    "print(find_acr(some_words))"
   ]
  },
  {
   "cell_type": "code",
   "execution_count": null,
   "metadata": {},
   "outputs": [],
   "source": [
    "Задание 4\n",
    "Напишите функцию, которая будет принимать на вход список email-адресов и выводить их \n",
    "распределение по доменным зонам.\n",
    "\n",
    "Пример работы программы:\n",
    "\n",
    "emails = ['test@gmail.com', 'xyz@test.in', 'test@ya.ru', 'xyz@mail.ru', 'xyz@ya.ru', 'xyz@gmail.com']\n",
    "\n",
    "Результат:\n",
    "\n",
    "gmail.com: 2\n",
    "test.in: 1 \n",
    "ya.ru: 2 \n",
    "mail.ru: 1"
   ]
  },
  {
   "cell_type": "code",
   "execution_count": 132,
   "metadata": {},
   "outputs": [
    {
     "name": "stdout",
     "output_type": "stream",
     "text": [
      "gmail.com: 2\n",
      "test.in: 1\n",
      "ya.ru: 2\n",
      "mail.ru: 1\n"
     ]
    }
   ],
   "source": [
    "import re\n",
    "\n",
    "def count_emails(emails):\n",
    "    dct = dict()\n",
    "    for i in emails:\n",
    "        text = re.findall(r'[\\w\\.-]+@([\\w\\.-]+\\.[\\w]+)', i)\n",
    "        if text:\n",
    "            if text[0] not in dct:\n",
    "                dct[text[0]] = 1\n",
    "            else:\n",
    "                dct[text[0]] += 1\n",
    "    return dct\n",
    "\n",
    "emails = ['test@gmail.com', 'asd', 'xyz@test.in', 'test@ya.ru', 'xyz@mail.ru', 'xyz@ya.ru', 'xyz@gmail.com']\n",
    "\n",
    "dct = count_emails(emails)\n",
    "for i in dct:\n",
    "    print(i + \": \" + str(dct[i]))"
   ]
  },
  {
   "cell_type": "code",
   "execution_count": null,
   "metadata": {},
   "outputs": [],
   "source": [
    "Задание 5 (необязательное)\n",
    "Напишите функцию, которая будет подсчитывать сколько слов начинается на гласные, а сколько на \n",
    "согласные буквы в тексте (текст может быть написан как с использованием букв кириллицы, так и латиницы).\n",
    "\n",
    "Пример работы программы:\n",
    "\n",
    "some_text = 'Эталонной реализацией Python является интерпретатор CPython, поддерживающий \\\n",
    "большинство активно используемых платформ. Он распространяется под свободной лицензией Python \\\n",
    "Software Foundation License, позволяющей использовать его без ограничений в любых приложениях, \\\n",
    "включая проприетарные.'\n",
    "\n",
    "Результат:\n",
    "\n",
    "Слов на гласные буквы: 9\n",
    "Слов на согласные буквы: 21 "
   ]
  },
  {
   "cell_type": "code",
   "execution_count": 158,
   "metadata": {},
   "outputs": [
    {
     "name": "stdout",
     "output_type": "stream",
     "text": [
      "Слов на гласные буквы: 9\n",
      "Слов на согласные буквы: 21\n"
     ]
    }
   ],
   "source": [
    "import re\n",
    "\n",
    "def counts_letters(text):\n",
    "    result = len(re.findall(r'\\b[аАуУоОыЫиИэЭяЯюЮёЁеЕaAeEiIoOuUyY]', text))\n",
    "    print(\"Слов на гласные буквы:\", result)\n",
    "    result = len(re.findall(r'\\b[bBcCdDfFgGhHjJkKlLmMnNpPqQrRsStTvVwWxXzZбБвВгГдДжЖзЗйЙкКлЛмМнНпПрРсСтТфФхХцЦчЧшШщЩ]', text))\n",
    "    print(\"Слов на согласные буквы:\", result)\n",
    "\n",
    "some_text = 'Эталонной реализацией Python является интерпретатор CPython, поддерживающий \\\n",
    "большинство активно используемых платформ. Он распространяется под свободной лицензией Python \\\n",
    "Software Foundation License, позволяющей использовать его без ограничений в любых приложениях, \\\n",
    "включая проприетарные.'\n",
    "\n",
    "counts_letters(some_text)    "
   ]
  },
  {
   "cell_type": "code",
   "execution_count": null,
   "metadata": {},
   "outputs": [],
   "source": [
    "Задание 6 (необязательное)\n",
    "Напишите функцию, которая будет проверять номер сотового телефона на валидность, \n",
    "если он валиден, то переводить его в формат:\n",
    "+7-xxx-xxx-xx-xx\n",
    "Постарайтесь предусмотреть как можно больше адекватных форматов изначального ввода \n",
    "номера. Примеры работы программы:\n",
    "\n",
    "phone = '+7 955 555-55-55'\n",
    "Результат: +7-950-555-55-55\n",
    "\n",
    "phone = '8(955)555-55-55'\n",
    "Результат: +7-950-555-55-55\n",
    "\n",
    "phone = '+7 955 555 55 55'\n",
    "Результат: +7-950-555-55-55\n",
    "\n",
    "phone = '7(955) 555-55-55'\n",
    "Результат: +7-950-555-55-55\n",
    "\n",
    "phone = '423-555-55-5555'\n",
    "Результат: Номер не валиден\n",
    "\n",
    "phone = '123-456-789'\n",
    "Результат: Номер не валиден"
   ]
  },
  {
   "cell_type": "code",
   "execution_count": 1,
   "metadata": {},
   "outputs": [
    {
     "name": "stdout",
     "output_type": "stream",
     "text": [
      "+7-955-555-55-55\n"
     ]
    }
   ],
   "source": [
    "import re\n",
    "\n",
    "def sub_re(phone):\n",
    "    if re.findall(r'\\+?[7-8]{1} ?-?\\(?\\d{3} ?-?\\)? ?-?\\d{3} ?-?\\d{2} ?-?\\d{2}', phone):\n",
    "        res = re.sub(r'^7', r'+7', phone)\n",
    "        res = re.sub(r'^8', r'+7', res)\n",
    "        res = re.sub(r' \\(', r'-', res)\n",
    "        res = re.sub(r'\\(', r'-', res)\n",
    "        res = re.sub(r'\\) ', r'-', res)\n",
    "        res = re.sub(r'\\)', r'-', res)\n",
    "        res = re.sub(r' ', r'-', res)\n",
    "        print(res)\n",
    "    else:\n",
    "        print(\"Номер не валиден\")\n",
    "\n",
    "phone = '7(955) 555-55-55'\n",
    "\n",
    "sub_re(phone)"
   ]
  },
  {
   "cell_type": "code",
   "execution_count": null,
   "metadata": {},
   "outputs": [],
   "source": []
  }
 ],
 "metadata": {
  "kernelspec": {
   "display_name": "Python 3",
   "language": "python",
   "name": "python3"
  },
  "language_info": {
   "codemirror_mode": {
    "name": "ipython",
    "version": 3
   },
   "file_extension": ".py",
   "mimetype": "text/x-python",
   "name": "python",
   "nbconvert_exporter": "python",
   "pygments_lexer": "ipython3",
   "version": "3.7.6"
  }
 },
 "nbformat": 4,
 "nbformat_minor": 4
}
