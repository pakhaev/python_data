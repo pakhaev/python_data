{
 "cells": [
  {
   "cell_type": "code",
   "execution_count": 3,
   "metadata": {},
   "outputs": [],
   "source": [
    "import pandas as pd\n",
    "\n",
    "def classification(i):\n",
    "    if i <= 2:\n",
    "        return 'низкий рейтинг'\n",
    "    elif i <= 4:\n",
    "        return 'средний рейтинг'\n",
    "    elif i >= 4.5:\n",
    "        return 'высокий рейтинг'\n",
    "\n",
    "ratings = pd.read_csv('ratings.csv')\n",
    "movies = pd.read_csv('movies.csv')\n",
    "Total = ratings.merge(movies, on=[\"movieId\"], how='inner')\n",
    "unite = Total.pivot_table(index=['title','movieId'], values = 'rating', aggfunc='mean').reset_index()\n",
    "unite['class'] = unite['rating'].apply(classification)\n",
    "\n",
    "unite = unite.sort_values(['rating'], ascending=[False])\n",
    "unite.to_csv('output.csv', index=False)"
   ]
  },
  {
   "cell_type": "code",
   "execution_count": null,
   "metadata": {},
   "outputs": [],
   "source": [
    "Задание 2\n",
    "Используем файл keywords.csv.\n",
    "\n",
    "Необходимо написать гео-классификатор, который каждой строке \n",
    "сможет выставить географическую принадлежность определенному региону. \n",
    "Т. е. если поисковый запрос содержит название города региона, то в столбце \n",
    "‘region’ пишется название этого региона. Если поисковый запрос не содержит \n",
    "названия города, то ставим ‘undefined’.\n",
    "\n",
    "Правила распределения по регионам Центр, Северо-Запад и Дальний Восток:\n",
    "\n",
    "geo_data = {\n",
    "'Центр': ['москва', 'тула', 'ярославль'],\n",
    "'Северо-Запад': ['петербург', 'псков', 'мурманск'],\n",
    "'Дальний Восток': ['владивосток', 'сахалин', 'хабаровск']\n",
    "}"
   ]
  },
  {
   "cell_type": "code",
   "execution_count": 15,
   "metadata": {},
   "outputs": [],
   "source": [
    "import pandas as pd\n",
    "\n",
    "def search_geo(keywords):\n",
    "    geo_data = {\n",
    "    'Центр': ['москва', 'тула', 'ярославль'],\n",
    "    'Северо-Запад': ['петербург', 'псков', 'мурманск'],\n",
    "    'Дальний Восток': ['владивосток', 'сахалин', 'хабаровск']\n",
    "    }\n",
    "    for i in geo_data:\n",
    "        for j in geo_data[i]:\n",
    "            if j in keywords['keyword']:\n",
    "                return i\n",
    "    return \"undefined\"\n",
    "\n",
    "keywords = pd.read_csv('keywords.csv')\n",
    "keywords['region'] = keywords.apply(search_geo, axis=1)\n",
    "keywords['region'].value_counts()\n",
    "\n",
    "keywords = keywords.sort_values(['shows'], ascending=[False])\n",
    "keywords.to_csv('cities.csv', index=False)"
   ]
  },
  {
   "cell_type": "code",
   "execution_count": null,
   "metadata": {},
   "outputs": [],
   "source": []
  }
 ],
 "metadata": {
  "kernelspec": {
   "display_name": "Python 3",
   "language": "python",
   "name": "python3"
  },
  "language_info": {
   "codemirror_mode": {
    "name": "ipython",
    "version": 3
   },
   "file_extension": ".py",
   "mimetype": "text/x-python",
   "name": "python",
   "nbconvert_exporter": "python",
   "pygments_lexer": "ipython3",
   "version": "3.7.6"
  }
 },
 "nbformat": 4,
 "nbformat_minor": 4
}
