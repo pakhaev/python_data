{
 "cells": [
  {
   "cell_type": "code",
   "execution_count": null,
   "metadata": {},
   "outputs": [],
   "source": [
    "Задание 1\n",
    "Печатные газеты использовали свой формат дат для каждого выпуска. \n",
    "Для каждой газеты из списка напишите формат указанной даты для \n",
    "перевода в объект datetime:\n",
    "The Moscow Times - Wednesday, October 2, 2002\n",
    "The Guardian - Friday, 11.10.13\n",
    "Daily News - Thursday, 18 August 1977"
   ]
  },
  {
   "cell_type": "code",
   "execution_count": 95,
   "metadata": {},
   "outputs": [
    {
     "name": "stdout",
     "output_type": "stream",
     "text": [
      "02.10.2002\n",
      "11.10.2013\n",
      "18.08.1977\n"
     ]
    }
   ],
   "source": [
    "from datetime import datetime\n",
    "\n",
    "def parse_date(strl):\n",
    "    new = strl.split(\"-\")[1].split(\", \")[1::]\n",
    "    new_date = ''\n",
    "    for i in new:\n",
    "        new_date += i\n",
    "    return new_date\n",
    "\n",
    "def returning(date):\n",
    "    return date.strftime('%d.%m.%Y')\n",
    "\n",
    "def moscow_time(strl):\n",
    "    new_date = parse_date(strl)\n",
    "    date = datetime.strptime(new_date, '%B %d%Y').date()\n",
    "    return returning(date)\n",
    "\n",
    "def guardian(strl):\n",
    "    new_date = parse_date(strl)\n",
    "    date = datetime.strptime(new_date, '%d.%m.%y').date()\n",
    "    return returning(date)\n",
    "\n",
    "def daily_news(strl):\n",
    "    new_date = parse_date(strl)\n",
    "    date = datetime.strptime(new_date, '%d %B %Y').date()\n",
    "    return returning(date)\n",
    "\n",
    "strl = ['The Moscow Times - Wednesday, October 2, 2002', \n",
    "        'The Guardian - Friday, 11.10.13',\n",
    "        'Daily News - Thursday, 18 August 1977']\n",
    "print(moscow_time(strl[0]))\n",
    "print(guardian(strl[1]))\n",
    "print(daily_news(strl[2]))"
   ]
  },
  {
   "cell_type": "code",
   "execution_count": null,
   "metadata": {},
   "outputs": [],
   "source": [
    "Задание 2\n",
    "Дан поток дат в формате YYYY-MM-DD, в которых встречаются некорректные значения:\n",
    "stream = [‘2018-04-02’, ‘2018-02-29’, ‘2018-19-02’]\n",
    "\n",
    "Напишите функцию, которая проверяет эти даты на корректность. \n",
    "Т. е. для каждой даты возвращает True (дата корректна) \n",
    "или False (некорректная дата)."
   ]
  },
  {
   "cell_type": "code",
   "execution_count": 107,
   "metadata": {},
   "outputs": [
    {
     "name": "stdout",
     "output_type": "stream",
     "text": [
      "True\n",
      "False\n",
      "False\n"
     ]
    }
   ],
   "source": [
    "from datetime import datetime\n",
    "\n",
    "def checking(date):\n",
    "    for i in date:\n",
    "        try:\n",
    "            datetime.strptime(i, '%Y-%m-%d').date()\n",
    "            print(\"True\")\n",
    "        except:\n",
    "            print(\"False\")\n",
    "\n",
    "stream = ['2018-04-02', '2018-02-29', '2018-19-02']\n",
    "checking(stream)"
   ]
  },
  {
   "cell_type": "code",
   "execution_count": null,
   "metadata": {},
   "outputs": [],
   "source": [
    "Напишите функцию date_range, которая возвращает список дат за период от start_date до end_date. \n",
    "Даты должны вводиться в формате YYYY-MM-DD. В случае неверного формата или при start_date > end_date \n",
    "должен возвращаться пустой список."
   ]
  },
  {
   "cell_type": "code",
   "execution_count": 51,
   "metadata": {},
   "outputs": [
    {
     "name": "stdout",
     "output_type": "stream",
     "text": [
      "2020-10-11\n",
      "2020-10-12\n",
      "2020-10-13\n",
      "2020-10-14\n",
      "2020-10-15\n"
     ]
    }
   ],
   "source": [
    "from datetime import datetime\n",
    "from datetime import timedelta\n",
    "\n",
    "def date_range(start_date, end_date):\n",
    "    array = list()\n",
    "    try:\n",
    "        start = datetime.strptime(start_date, \"%Y-%m-%d\").date()\n",
    "        end = datetime.strptime(end_date, \"%Y-%m-%d\").date()\n",
    "        if start_date > end_date:\n",
    "            return array\n",
    "        else:\n",
    "            while start <= end:\n",
    "                array.append(start.strftime(\"%Y-%m-%d\"))\n",
    "                start = start + timedelta(days=+1)\n",
    "            return array\n",
    "    except:\n",
    "        return array\n",
    "\n",
    "result = date_range(\"2020-10-11\", \"2020-10-15\")\n",
    "for i in result:\n",
    "    print(i)"
   ]
  },
  {
   "cell_type": "code",
   "execution_count": null,
   "metadata": {},
   "outputs": [],
   "source": [
    "Задание 4 (бонусное)\n",
    "Ваш коллега прислал код функции:\n",
    "\n",
    "DEFAULT_USER_COUNT = 3\n",
    "\n",
    "def delete_and_return_last_user(region, default_list=[‘A100’, ‘A101’, ‘A102’]):\n",
    "\"\"“\n",
    "Удаляет из списка default_list последнего пользователя\n",
    "и возвращает ID нового последнего пользователя.\n",
    "”\"\"\n",
    "element_to_delete = default_list[-1]\n",
    "default_list.remove(element_to_delete)\n",
    "return default_list[DEFAULT_USER_COUNT-2]\n",
    "При однократном вызове этой функции все работает корректно:\n",
    "delete_and_return_last_user(1)\n",
    "‘A101’\n",
    "\n",
    "Однако, при повторном вызове получается ошибка IndexError: list index out of range.\n",
    "\n",
    "Задание:\n",
    "\n",
    "Что значит ошибка list index out of range?\n",
    "Почему при первом запуске функция работает корректно, а при втором - нет?"
   ]
  },
  {
   "cell_type": "code",
   "execution_count": null,
   "metadata": {},
   "outputs": [],
   "source": [
    "Ответ на 1 вопрос:\n",
    "Ошибка list index out range означает, что мы \"вышли\" за пределы массива, \n",
    "то есть хотим обратиться к элементу, которого нет.\n",
    "Ответ на 2 вопрос:\n",
    "В данной функции возвращается элемент в массиве с индексом 1 (3-2).\n",
    "При вызове функции в первый раз происходит сначала удаление последнего элемента с индексом 2 \n",
    "('A102')  и возвращение элемента с 1 индексом 'A101'.\n",
    "При втором вызове также происходит удаление последнего элемента с индексом 1 ('A101')\n",
    "и, опять-таки, возвращение элемента на 1 позиции (который был удален строкой раннее).\n",
    "Соответственно, функция пытается вернуть значение, которое было удалено (которое сейчас не доступно).\n",
    "Остается доступным только элемент на 0 позиции ('A100')."
   ]
  }
 ],
 "metadata": {
  "kernelspec": {
   "display_name": "Python 3",
   "language": "python",
   "name": "python3"
  },
  "language_info": {
   "codemirror_mode": {
    "name": "ipython",
    "version": 3
   },
   "file_extension": ".py",
   "mimetype": "text/x-python",
   "name": "python",
   "nbconvert_exporter": "python",
   "pygments_lexer": "ipython3",
   "version": "3.7.6"
  }
 },
 "nbformat": 4,
 "nbformat_minor": 4
}
