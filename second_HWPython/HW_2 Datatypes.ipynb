{
 "cells": [
  {
   "cell_type": "code",
   "execution_count": null,
   "metadata": {},
   "outputs": [],
   "source": [
    "Задание 1\n",
    "Дана переменная, в которой хранится словарь, содержащий гео-метки для каждого пользователя (пример структуры данных приведен ниже). Вам необходимо написать программу, которая выведет на экран множество уникальных гео-меток всех пользователей.\n",
    "\n",
    "Пример работы программы:\n",
    "\n"
   ]
  },
  {
   "cell_type": "code",
   "execution_count": 44,
   "metadata": {},
   "outputs": [
    {
     "name": "stdout",
     "output_type": "stream",
     "text": [
      "{98, 35, 15, 213, 54, 119}\n"
     ]
    }
   ],
   "source": [
    "def ft_unique(id_lst):\n",
    "    unique_nb = set()\n",
    "    for i in id_lst.values():\n",
    "        unique_nb = unique_nb.union(i)\n",
    "    print(unique_nb)\n",
    "\n",
    "ids = {'user1': [213, 213, 213, 15, 213],\n",
    "'user2': [54, 54, 119, 119, 119],\n",
    "'user3': [213, 98, 98, 35]}\n",
    "\n",
    "ft_unique(ids)"
   ]
  },
  {
   "cell_type": "code",
   "execution_count": 2,
   "metadata": {},
   "outputs": [
    {
     "ename": "SyntaxError",
     "evalue": "invalid syntax (<ipython-input-2-af1648fd2c3c>, line 1)",
     "output_type": "error",
     "traceback": [
      "\u001b[0;36m  File \u001b[0;32m\"<ipython-input-2-af1648fd2c3c>\"\u001b[0;36m, line \u001b[0;32m1\u001b[0m\n\u001b[0;31m    Задание 2\u001b[0m\n\u001b[0m            ^\u001b[0m\n\u001b[0;31mSyntaxError\u001b[0m\u001b[0;31m:\u001b[0m invalid syntax\n"
     ]
    }
   ],
   "source": [
    "Задание 2\n",
    "Дана переменная, в которой хранится список поисковых запросов \n",
    "пользователя (пример структуры данных приведен ниже). Вам \n",
    "необходимо написать программу, которая выведет на экран распределение\n",
    "количества слов в запросах в требуемом виде.\n",
    "\n",
    "Пример работы программы:\n",
    "\n",
    "queries = [\n",
    "'смотреть сериалы онлайн',\n",
    "'новости спорта',\n",
    "'афиша кино',\n",
    "'курс доллара',\n",
    "'сериалы этим летом',\n",
    "'курс по питону',\n",
    "'сериалы про спорт',\n",
    "]\n",
    "Результат:\n",
    "\n",
    "Поисковых запросов, содержащих 2 слов(а): 42.86%\n",
    "Поисковых запросов, содержащих 3 слов(а): 57.14%"
   ]
  },
  {
   "cell_type": "code",
   "execution_count": 34,
   "metadata": {},
   "outputs": [
    {
     "name": "stdout",
     "output_type": "stream",
     "text": [
      "Поисковых запросов, содержащих 2 слов(а): 42.86%\n",
      "Поисковых запросов, содержащих 3 слов(а): 57.14%\n"
     ]
    }
   ],
   "source": [
    "def calc_words(queries):\n",
    "    dictionary = dict()\n",
    "    count = 0\n",
    "    for i in queries:\n",
    "        if len(i.split()) not in dictionary.keys():\n",
    "            dictionary[len(i.split())] = 0\n",
    "        dictionary[len(i.split())] += 1\n",
    "        count += 1\n",
    "    for i in sorted(dictionary.keys()):\n",
    "        result = round(dictionary[i] / count * 100, 2)\n",
    "        print(\"Поисковых запросов, содержащих %d слов(а): %.2f%%\" % (int(i), result))\n",
    "queries = [\n",
    "'смотреть сериалы онлайн',\n",
    "'новости спорта',\n",
    "'афиша кино',\n",
    "'курс доллара',\n",
    "'сериалы этим летом',\n",
    "'курс по питону',\n",
    "'сериалы про спорт',\n",
    "]\n",
    "\n",
    "calc_words(queries)"
   ]
  },
  {
   "cell_type": "code",
   "execution_count": null,
   "metadata": {},
   "outputs": [],
   "source": [
    "Задание 3\n",
    "Дана переменная, в которой хранится информация о затратах и доходе \n",
    "рекламных кампаний по различным источникам. Необходимо дополнить \n",
    "исходную структуру показателем ROI, который рассчитаем по формуле: \n",
    "(revenue / cost - 1) * 100\n",
    "\n",
    "Пример работы программы:\n",
    "\n",
    "results = {\n",
    "‘vk’: {‘revenue’: 103, ‘cost’: 98},\n",
    "‘yandex’: {‘revenue’: 179, ‘cost’: 153},\n",
    "‘facebook’: {‘revenue’: 103, ‘cost’: 110},\n",
    "‘adwords’: {‘revenue’: 35, ‘cost’: 34},\n",
    "‘twitter’: {‘revenue’: 11, ‘cost’: 24},\n",
    "}\n",
    "Результат:\n",
    "\n",
    "{‘adwords’: {‘ROI’: 2.94, ‘cost’: 34, ‘revenue’: 35},\n",
    "‘facebook’: {‘ROI’: -6.36, ‘cost’: 110, ‘revenue’: 103},\n",
    "‘twitter’: {‘ROI’: -54.17, ‘cost’: 24, ‘revenue’: 11},\n",
    "‘vk’: {‘ROI’: 5.1, ‘cost’: 98, ‘revenue’: 103},\n",
    "‘yandex’: {‘ROI’: 16.99, ‘cost’: 153, ‘revenue’: 179}}"
   ]
  },
  {
   "cell_type": "code",
   "execution_count": 460,
   "metadata": {},
   "outputs": [
    {
     "name": "stdout",
     "output_type": "stream",
     "text": [
      "{'adwords': {'ROI': 2.94, 'cost': 34, 'revenue': 35}, 'facebook': {'ROI': -6.36, 'cost': 110, 'revenue': 103}, 'twitter': {'ROI': -54.17, 'cost': 24, 'revenue': 11}, 'vk': {'ROI': 5.1, 'cost': 98, 'revenue': 103}, 'yandex': {'ROI': 16.99, 'cost': 153, 'revenue': 179}}\n"
     ]
    }
   ],
   "source": [
    "from collections import OrderedDict\n",
    "def add_dict(dicts):\n",
    "    calc = 0\n",
    "    for i in dicts:\n",
    "        calc = (dicts[i]['revenue'] / dicts[i]['cost'] - 1) * 100\n",
    "        dicts[i]['ROI'] = round(calc, 2)\n",
    "\n",
    "def sorted_dict(dicts):\n",
    "    add_dict(dicts)\n",
    "    new_dict = dict()\n",
    "    for k in sorted(dicts):\n",
    "        if k not in new_dict:\n",
    "            new_dict[k] = dict()\n",
    "        for j in OrderedDict(sorted(dicts[k].items())):\n",
    "            new_dict[k][j] = dicts[k][j]\n",
    "    dicts.clear()\n",
    "    dicts = new_dict.copy()\n",
    "    new_dict.clear()\n",
    "    return dicts\n",
    "\n",
    "results = {\n",
    "'vk': {'revenue': 103, 'cost': 98},\n",
    "'yandex': {'revenue': 179, 'cost': 153},\n",
    "'facebook': {'revenue': 103, 'cost': 110},\n",
    "'adwords': {'revenue': 35, 'cost': 34},\n",
    "'twitter': {'revenue': 11, 'cost': 24},\n",
    "}\n",
    "results = sorted_dict(results)\n",
    "print(results)"
   ]
  },
  {
   "cell_type": "code",
   "execution_count": null,
   "metadata": {},
   "outputs": [],
   "source": [
    "Задание 4\n",
    "Дана переменная, в которой хранится статистика рекламных каналов \n",
    "по объемам продаж (пример структуры данных приведен ниже). Напишите \n",
    "программу, которая возвращает название канала с максимальным объемом продаж.\n",
    "\n",
    "Пример работы программы:\n",
    "\n",
    "stats = {‘facebook’: 55, ‘yandex’: 115, ‘vk’: 120, ‘google’: 99, ‘email’: 42, ‘ok’: 98}\n",
    "\n",
    "Результат: Максимальный объем продаж на рекламном канале: vk"
   ]
  },
  {
   "cell_type": "code",
   "execution_count": 38,
   "metadata": {},
   "outputs": [
    {
     "name": "stdout",
     "output_type": "stream",
     "text": [
      "Максимальный объем продаж на рекламном канале: vk\n"
     ]
    }
   ],
   "source": [
    "def max_size(stats):\n",
    "    soc_name  = ''\n",
    "    max_count = 0\n",
    "    return (max(stats, key=stats.get))\n",
    "\n",
    "stats = {'facebook': 55, 'yandex': 115, 'vk': 120, 'google': 99, 'email': 42, 'ok': 98}\n",
    "print('Максимальный объем продаж на рекламном канале:', max_size(stats))"
   ]
  },
  {
   "cell_type": "code",
   "execution_count": null,
   "metadata": {},
   "outputs": [],
   "source": [
    "Задание 5 (необязательно)\n",
    "Дан список произвольной длины. Необходимо написать код, который на \n",
    "основе исходного списка составит словарь такого уровня вложенности, какова длина исхондого списка.\n",
    "\n",
    "Примеры работы программы:\n",
    "\n",
    "my_list = ['2018-01-01', 'yandex', 'cpc', 100]\n",
    "Результат: {'2018-01-01': {'yandex': {'cpc': 100}}}\n",
    "\n",
    "my_list = ['a', 'b', 'c', 'd', 'e', 'f']\n",
    "Результат: {'a': {'b': {'c': {'d': {'e': 'f'}}}}}"
   ]
  },
  {
   "cell_type": "code",
   "execution_count": 454,
   "metadata": {},
   "outputs": [
    {
     "name": "stdout",
     "output_type": "stream",
     "text": [
      "{'2018-01-01': {'yandex': {'cpc': 100}}}\n"
     ]
    }
   ],
   "source": [
    "def sorted_dict(my_list):\n",
    "    revers = reversed(my_list)\n",
    "    new_dict = next(revers)\n",
    "    for i in revers:\n",
    "        new_dict = {i: new_dict}\n",
    "    return new_dict\n",
    "\n",
    "my_list = ['2018-01-01', 'yandex', 'cpc', 100]\n",
    "\n",
    "new_dict = sorted_dict(my_list)\n",
    "print (new_dict)"
   ]
  },
  {
   "cell_type": "code",
   "execution_count": null,
   "metadata": {},
   "outputs": [],
   "source": [
    "Задание 6 (необязательно)\n",
    "Дана книга рецептов с информацией о том, сколько ингредиентов нужно для \n",
    "приготовления блюда в расчете на одну порцию (пример данных представлен ниже).\n",
    "Напишите программу, которая будет запрашивать у пользователя количество порций \n",
    "для приготовления этих блюд и отображать информацию о суммарном количестве \n",
    "требуемых ингредиентов в указанном виде.\n",
    "\n",
    "Пример работы программы:\n",
    "\n",
    "cook_book = {\n",
    "‘салат’: [\n",
    "{‘ingridient_name’: ‘сыр’, ‘quantity’: 50, ‘measure’: ‘гр’},\n",
    "{‘ingridient_name’: ‘томаты’, ‘quantity’: 2, ‘measure’: ‘шт’},\n",
    "{‘ingridient_name’: ‘огурцы’, ‘quantity’: 20, ‘measure’: ‘гр’},\n",
    "{‘ingridient_name’: ‘маслины’, ‘quantity’: 10, ‘measure’: ‘гр’},\n",
    "{‘ingridient_name’: ‘оливковое масло’, ‘quantity’: 20, ‘measure’: ‘мл’},\n",
    "{‘ingridient_name’: ‘салат’, ‘quantity’: 10, ‘measure’: ‘гр’},\n",
    "{‘ingridient_name’: ‘перец’, ‘quantity’: 20, ‘measure’: ‘гр’}\n",
    "],\n",
    "‘пицца’: [\n",
    "{‘ingridient_name’: ‘сыр’, ‘quantity’: 20, ‘measure’: ‘гр’},\n",
    "{‘ingridient_name’: ‘колбаса’, ‘quantity’: 30, ‘measure’: ‘гр’},\n",
    "{‘ingridient_name’: ‘бекон’, ‘quantity’: 30, ‘measure’: ‘гр’},\n",
    "{‘ingridient_name’: ‘оливки’, ‘quantity’: 10, ‘measure’: ‘гр’},\n",
    "{‘ingridient_name’: ‘томаты’, ‘quantity’: 20, ‘measure’: ‘гр’},\n",
    "{‘ingridient_name’: ‘тесто’, ‘quantity’: 100, ‘measure’: ‘гр’},\n",
    "],\n",
    "‘лимонад’: [\n",
    "{‘ingridient_name’: ‘лимон’, ‘quantity’: 1, ‘measure’: ‘шт’},\n",
    "{‘ingridient_name’: ‘вода’, ‘quantity’: 200, ‘measure’: ‘мл’},\n",
    "{‘ingridient_name’: ‘сахар’, ‘quantity’: 10, ‘measure’: ‘гр’},\n",
    "{‘ingridient_name’: ‘лайм’, ‘quantity’: 20, ‘measure’: ‘гр’},\n",
    "]\n",
    "}\n",
    "\n",
    "Введите количество порций:\n",
    "3\n",
    "Результат:\n",
    "\n",
    "Сыр: 210 гр\n",
    "Томаты: 6 шт\n",
    "Огурцы: 60 гр\n",
    "Маслины: 30 гр\n",
    "Оливковое Масло: 60 мл\n",
    "Салат: 30 гр\n",
    "Перец: 60 гр\n",
    "Колбаса: 90 гр\n",
    "Бекон: 90 гр\n",
    "Оливки: 30 гр\n",
    "Томаты: 60 гр\n",
    "Тесто: 300 гр\n",
    "Лимон: 3 шт\n",
    "Вода: 600 мл\n",
    "Сахар: 30 гр\n",
    "Лайм: 60 гр"
   ]
  },
  {
   "cell_type": "code",
   "execution_count": 43,
   "metadata": {},
   "outputs": [
    {
     "name": "stdout",
     "output_type": "stream",
     "text": [
      "Введите количество порций:\n",
      "3\n",
      "Сыр: 210 гр\n",
      "Томаты: 6 шт\n",
      "Огурцы: 60 гр\n",
      "Маслины: 30 гр\n",
      "Оливковое Масло: 60 мл\n",
      "Салат: 30 гр\n",
      "Перец: 60 гр\n",
      "Колбаса: 90 гр\n",
      "Бекон: 90 гр\n",
      "Оливки: 30 гр\n",
      "Томаты: 60 гр\n",
      "Тесто: 300 гр\n",
      "Лимон: 3 шт\n",
      "Вода: 600 мл\n",
      "Сахар: 30 гр\n",
      "Лайм: 60 гр\n"
     ]
    }
   ],
   "source": [
    "def print_dict(new_dict):\n",
    "    for i in new_dict:\n",
    "        print(i.replace(\"GR\", \"\").title() + \":\", end=\" \")\n",
    "        print(new_dict[i]['quantity'], new_dict[i]['measure'])\n",
    "\n",
    "def multiply_counts(new_dict, count):\n",
    "    for i in new_dict:\n",
    "        new_dict[i]['quantity'] *= count\n",
    "\n",
    "def create_dict(new_dict, flag):\n",
    "    len_dict = 0\n",
    "    for i in cook_book:\n",
    "        len_dict = len(cook_book[i])\n",
    "        for j in range(len_dict):\n",
    "            key = cook_book[i][j]['ingridient_name']\n",
    "            if flag == 0:\n",
    "                if key not in new_dict:\n",
    "                    new_dict[key] = {'quantity': 0, 'measure': cook_book[i][j]['measure']}\n",
    "                elif new_dict[key]['measure'] != cook_book[i][j]['measure']:\n",
    "                    key += 'GR'\n",
    "                    new_dict[key] = {'quantity': 0, 'measure': cook_book[i][j]['measure']}\n",
    "            else:\n",
    "                if new_dict[key]['measure'] == cook_book[i][j]['measure']:\n",
    "                    new_dict[key]['quantity'] += cook_book[i][j]['quantity']\n",
    "                else:\n",
    "                    key += 'GR'\n",
    "                    new_dict[key]['quantity'] += cook_book[i][j]['quantity']\n",
    "\n",
    "cook_book = {\n",
    "'салат': [\n",
    "{'ingridient_name': 'сыр', 'quantity': 50, 'measure': 'гр'},\n",
    "{'ingridient_name': 'томаты', 'quantity': 2, 'measure': 'шт'},\n",
    "{'ingridient_name': 'огурцы', 'quantity': 20, 'measure': 'гр'},\n",
    "{'ingridient_name': 'маслины', 'quantity': 10, 'measure': 'гр'},\n",
    "{'ingridient_name': 'оливковое масло', 'quantity': 20, 'measure': 'мл'},\n",
    "{'ingridient_name': 'салат', 'quantity': 10, 'measure': 'гр'},\n",
    "{'ingridient_name': 'перец', 'quantity': 20, 'measure': 'гр'}\n",
    "],\n",
    "'пицца': [\n",
    "{'ingridient_name': 'сыр', 'quantity': 20, 'measure': 'гр'},\n",
    "{'ingridient_name': 'колбаса', 'quantity': 30, 'measure': 'гр'},\n",
    "{'ingridient_name': 'бекон', 'quantity': 30, 'measure': 'гр'},\n",
    "{'ingridient_name': 'оливки', 'quantity': 10, 'measure': 'гр'},\n",
    "{'ingridient_name': 'томаты', 'quantity': 20, 'measure': 'гр'},\n",
    "{'ingridient_name': 'тесто', 'quantity': 100, 'measure': 'гр'},\n",
    "],\n",
    "'лимонад': [\n",
    "{'ingridient_name': 'лимон', 'quantity': 1, 'measure': 'шт'},\n",
    "{'ingridient_name': 'вода', 'quantity': 200, 'measure': 'мл'},\n",
    "{'ingridient_name': 'сахар', 'quantity': 10, 'measure': 'гр'},\n",
    "{'ingridient_name': 'лайм', 'quantity': 20, 'measure': 'гр'},\n",
    "]\n",
    "}\n",
    "\n",
    "new_dict = dict()\n",
    "count = int(input(\"Введите количество порций:\\n\"))\n",
    "create_dict(new_dict, 0)\n",
    "create_dict(new_dict, 1)\n",
    "multiply_counts(new_dict, count)\n",
    "print_dict(new_dict)"
   ]
  },
  {
   "cell_type": "code",
   "execution_count": null,
   "metadata": {},
   "outputs": [],
   "source": []
  }
 ],
 "metadata": {
  "kernelspec": {
   "display_name": "Python 3",
   "language": "python",
   "name": "python3"
  },
  "language_info": {
   "codemirror_mode": {
    "name": "ipython",
    "version": 3
   },
   "file_extension": ".py",
   "mimetype": "text/x-python",
   "name": "python",
   "nbconvert_exporter": "python",
   "pygments_lexer": "ipython3",
   "version": "3.7.6"
  }
 },
 "nbformat": 4,
 "nbformat_minor": 4
}
