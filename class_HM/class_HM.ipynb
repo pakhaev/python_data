{
 "cells": [
  {
   "cell_type": "code",
   "execution_count": null,
   "metadata": {},
   "outputs": [],
   "source": [
    "Напишите функцию, которая возвращает название валюты (поле ‘Name’) с \n",
    "максимальным значением курса с помощью сервиса https://www.cbr-xml-daily.ru/daily_json.js"
   ]
  },
  {
   "cell_type": "code",
   "execution_count": 58,
   "metadata": {},
   "outputs": [
    {
     "name": "stdout",
     "output_type": "stream",
     "text": [
      "XDR 104.9316\n"
     ]
    }
   ],
   "source": [
    "from libs.exchange import Rate\n",
    "dicts = Rate().exchange_rates()\n",
    "max_code = list(dicts.keys())[0]\n",
    "max_value = dicts[max_code]['Value']\n",
    "for i in dicts:\n",
    "    if dicts[i]['Value'] > max_value:\n",
    "        max_code = i\n",
    "        max_value = dicts[i]['Value']\n",
    "print(max_code, max_value)"
   ]
  },
  {
   "cell_type": "code",
   "execution_count": null,
   "metadata": {},
   "outputs": [],
   "source": [
    "Задание 2\n",
    "Добавьте в класс Rate параметр diff (со значениями True или False), \n",
    "который в случае значения True в методах курсов валют (eur, usd итд) будет \n",
    "возвращать не курс валюты, а изменение по сравнению в прошлым значением. Считайте, \n",
    "self.diff будет принимать значение True только при возврате значения курса. При \n",
    "отображении всей информации о валюте он не используется."
   ]
  },
  {
   "cell_type": "code",
   "execution_count": 65,
   "metadata": {},
   "outputs": [],
   "source": [
    "import requests \n",
    "class Rate:\n",
    "    def __init__(self, format_='value', diff_=False):\n",
    "        self.format = format_\n",
    "        self.diff = diff_\n",
    "    \n",
    "    def exchange_rates(self):\n",
    "        \"\"\"\n",
    "        Возвращает ответ сервиса с информацией о валютах в виде:\n",
    "        \n",
    "        {\n",
    "            'AMD': {\n",
    "                'CharCode': 'AMD',\n",
    "                'ID': 'R01060',\n",
    "                'Name': 'Армянских драмов',\n",
    "                'Nominal': 100,\n",
    "                'NumCode': '051',\n",
    "                'Previous': 14.103,\n",
    "                'Value': 14.0879\n",
    "                },\n",
    "            ...\n",
    "        }\n",
    "        \"\"\"\n",
    "        self.r = requests.get('https://www.cbr-xml-daily.ru/daily_json.js')\n",
    "        return self.r.json()['Valute']\n",
    "    \n",
    "    def make_format(self, currency):\n",
    "        \"\"\"\n",
    "        Возвращает информацию о валюте currency в двух вариантах:\n",
    "        - полная информация о валюте при self.format = 'full':\n",
    "        Rate('full').make_format('EUR')\n",
    "        {\n",
    "            'CharCode': 'EUR',\n",
    "            'ID': 'R01239',\n",
    "            'Name': 'Евро',\n",
    "            'Nominal': 1,\n",
    "            'NumCode': '978',\n",
    "            'Previous': 79.6765,\n",
    "            'Value': 79.4966\n",
    "        }\n",
    "        \n",
    "        Rate('value').make_format('EUR')\n",
    "        79.4966\n",
    "        \"\"\"\n",
    "        response = self.exchange_rates()\n",
    "        \n",
    "        if currency in response:\n",
    "            if self.format == 'full':\n",
    "                return response[currency]\n",
    "            if self.diff == True:\n",
    "                return response[currency]['Value'] - response[currency]['Previous']\n",
    "            elif self.format == 'value':\n",
    "                return response[currency]['Value']\n",
    "        \n",
    "        return 'Error'\n",
    "    \n",
    "    def eur(self):\n",
    "        \"\"\"Возвращает курс евро на сегодня в формате self.format\"\"\"\n",
    "        return self.make_format('EUR')\n",
    "    \n",
    "    def usd(self):\n",
    "        \"\"\"Возвращает курс доллара на сегодня в формате self.format\"\"\"\n",
    "        return self.make_format('USD')\n",
    "    \n",
    "    def brl(self):\n",
    "        \"\"\"Возвращает курс бразильского реала на сегодня в формате self.format\"\"\"\n",
    "        return self.make_format('BRL')"
   ]
  },
  {
   "cell_type": "code",
   "execution_count": 73,
   "metadata": {},
   "outputs": [
    {
     "data": {
      "text/plain": [
       "-0.10149999999998727"
      ]
     },
     "execution_count": 73,
     "metadata": {},
     "output_type": "execute_result"
    }
   ],
   "source": [
    "Rate('value', True).eur()"
   ]
  },
  {
   "cell_type": "code",
   "execution_count": null,
   "metadata": {},
   "outputs": [],
   "source": [
    "Задание 3\n",
    "Напишите класс Designer, который учитывает количество международных премий. \n",
    "Подсказки в коде занятия в разделе “Домашнее задание задача 3”.\n",
    "\n",
    "Комментарий по классу Designer такой:\n",
    "Напишите класс Designer, который учитывает количество международных премий \n",
    "для дизайнеров (из презентации: “Повышение на 1 грейд за каждые 7 баллов. \n",
    "                Получение международной премии – это +2 балла”). Считайте, \n",
    "что при выходе на работу сотрудник уже имеет две премии и их количество не меняется\n",
    "со стажем (конечно если хотите это можно вручную менять).\n",
    "\n",
    "Класс Designer пишется по аналогии с классом Developer из материалов занятия. \n",
    "Комментарий про его условия Вика написала выше: “Повышение на 1 грейд за каждые \n",
    "7 баллов. Получение международной премии – это +2 балла”"
   ]
  },
  {
   "cell_type": "code",
   "execution_count": 65,
   "metadata": {},
   "outputs": [
    {
     "name": "stdout",
     "output_type": "stream",
     "text": [
      "Имя дизайнера: As, Количество премий у дизайнера: 10, стаж работы: 3 грейдов, количество баллов: 6\n",
      "Имя дизайнера: As, Количество премий у дизайнера: 15, стаж работы: 5 грейдов, количество баллов: 2\n"
     ]
    }
   ],
   "source": [
    "class Designer:\n",
    "    def __init__(self, _name, _international_awards=2):\n",
    "        self.international_awards = _international_awards\n",
    "        self.name = _name\n",
    "        self.grade = 1\n",
    "        self.scores = _international_awards * 2\n",
    "        self._update()\n",
    "        self._print()\n",
    "            \n",
    "    def _update(self):\n",
    "        while self.scores >= 7:\n",
    "            self.grade += 1\n",
    "            self.scores -= 7\n",
    "    \n",
    "    def _up_international_awards(self):\n",
    "        self.international_awards += 1\n",
    "        self.scores += 2\n",
    "        self._update()\n",
    "    \n",
    "    def _print(self):\n",
    "        print(\"Имя дизайнера: %s, Количество премий у дизайнера: %d, стаж работы: %d грейдов, количество баллов: %d\" \\\n",
    "              %(self.name, self.international_awards, self.grade, self.scores))\n",
    "        \n",
    "asd = Designer(\"As\", 10)\n",
    "asd._up_international_awards()\n",
    "asd._up_international_awards()\n",
    "asd._up_international_awards()\n",
    "asd._up_international_awards()\n",
    "asd._up_international_awards()\n",
    "asd._print()"
   ]
  },
  {
   "cell_type": "code",
   "execution_count": null,
   "metadata": {},
   "outputs": [],
   "source": []
  }
 ],
 "metadata": {
  "kernelspec": {
   "display_name": "Python 3",
   "language": "python",
   "name": "python3"
  },
  "language_info": {
   "codemirror_mode": {
    "name": "ipython",
    "version": 3
   },
   "file_extension": ".py",
   "mimetype": "text/x-python",
   "name": "python",
   "nbconvert_exporter": "python",
   "pygments_lexer": "ipython3",
   "version": "3.7.6"
  }
 },
 "nbformat": 4,
 "nbformat_minor": 4
}
