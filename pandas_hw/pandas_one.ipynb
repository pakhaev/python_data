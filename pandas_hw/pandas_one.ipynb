{
 "cells": [
  {
   "cell_type": "code",
   "execution_count": null,
   "metadata": {},
   "outputs": [],
   "source": [
    "Скачайте с сайта grouplens.org...movielens/ \n",
    "датасет любого размера. Определите какому фильму было выставлено больше всего оценок 5.0."
   ]
  },
  {
   "cell_type": "code",
   "execution_count": 149,
   "metadata": {},
   "outputs": [
    {
     "name": "stdout",
     "output_type": "stream",
     "text": [
      "Фильм с самым высоким рейтингом: Shawshank Redemption, The (1994)\n"
     ]
    }
   ],
   "source": [
    "import pandas as pd\n",
    "\n",
    "def get_max(data):\n",
    "    dictionary = {}\n",
    "    sort = data[data['rating'] == 5.0]\n",
    "    mountains = sort.groupby(['movieId'])\n",
    "    for i in mountains:\n",
    "        l = list(i[1]['movieId'])\n",
    "        k = l[0]\n",
    "        if k not in dictionary:\n",
    "            dictionary[k] = len(l);\n",
    "    return max(dictionary, key=dictionary.get)\n",
    "\n",
    "data = pd.read_csv('ratings.csv')\n",
    "films = pd.read_csv('movies.csv')\n",
    "max_id = get_max(data)\n",
    "film_name = list(films[films['movieId'].isin([max_id])]['title'])[0]\n",
    "print(\"Фильм с самым высоким рейтингом:\", film_name)"
   ]
  },
  {
   "cell_type": "code",
   "execution_count": null,
   "metadata": {},
   "outputs": [],
   "source": [
    "Задание 2\n",
    "По данным файла power.csv посчитайте суммарное потребление стран Прибалтики \n",
    "(Латвия, Литва и Эстония) категорий 4, 12 и 21 за период с 2005 по 2010 года. \n",
    "Не учитывайте в расчетах отрицательные значения quantity."
   ]
  },
  {
   "cell_type": "code",
   "execution_count": 46,
   "metadata": {},
   "outputs": [
    {
     "name": "stdout",
     "output_type": "stream",
     "text": [
      "Кол-во потребения энергии:  165867.0\n"
     ]
    }
   ],
   "source": [
    "data = pd.read_csv('power.csv')\n",
    "df_filt = data[(data['country'] == 'Latvia')\n",
    "               | (data['country'] == 'Estonia')\n",
    "               | (data['country'] == 'Lithuania')]\n",
    "\n",
    "result = df_filt[(df_filt['category'] == 4) \n",
    "                      | (df_filt['category'] == 12)\n",
    "                      | (df_filt['category'] == 21)\n",
    "                      & (df_filt['year'] > 2005)\n",
    "                      & (df_filt['year'] < 2010)]\n",
    "\n",
    "ds = result['quantity'].sum()\n",
    "print(\"Кол-во потребения энергии: \", ds)"
   ]
  },
  {
   "cell_type": "code",
   "execution_count": null,
   "metadata": {},
   "outputs": [],
   "source": [
    "Задание 3\n",
    "Выберите страницу любого сайта с табличными данными. Импортируйте таблицы в pandas dataframe.\n",
    "Примеры страниц (необязательно брать именно эти):\n",
    "https://fortrader.org/quotes\n",
    "www.finanz.ru...om-vremeni"
   ]
  },
  {
   "cell_type": "code",
   "execution_count": 26,
   "metadata": {},
   "outputs": [
    {
     "name": "stdout",
     "output_type": "stream",
     "text": [
      "Unnamed: 0\n",
      "Рубль\n",
      "Предложение\n",
      "Спрос\n",
      "Предыдущее закрытие\n",
      "%\n",
      "Абсолютное значение\n",
      "Время\n"
     ]
    },
    {
     "data": {
      "text/html": [
       "<div>\n",
       "<style scoped>\n",
       "    .dataframe tbody tr th:only-of-type {\n",
       "        vertical-align: middle;\n",
       "    }\n",
       "\n",
       "    .dataframe tbody tr th {\n",
       "        vertical-align: top;\n",
       "    }\n",
       "\n",
       "    .dataframe thead th {\n",
       "        text-align: right;\n",
       "    }\n",
       "</style>\n",
       "<table border=\"1\" class=\"dataframe\">\n",
       "  <thead>\n",
       "    <tr style=\"text-align: right;\">\n",
       "      <th></th>\n",
       "      <th>Unnamed: 0</th>\n",
       "      <th>Рубль</th>\n",
       "      <th>Предложение</th>\n",
       "      <th>Спрос</th>\n",
       "      <th>Предыдущее закрытие</th>\n",
       "      <th>%</th>\n",
       "      <th>Абсолютное значение</th>\n",
       "      <th>Время</th>\n",
       "    </tr>\n",
       "  </thead>\n",
       "  <tbody>\n",
       "    <tr>\n",
       "      <th>0</th>\n",
       "      <td>NaN</td>\n",
       "      <td>GBP/RUB</td>\n",
       "      <td>1003024</td>\n",
       "      <td>-</td>\n",
       "      <td>1007235</td>\n",
       "      <td>-0,42 %</td>\n",
       "      <td>-04210</td>\n",
       "      <td>22:20:00</td>\n",
       "    </tr>\n",
       "    <tr>\n",
       "      <th>1</th>\n",
       "      <td>NaN</td>\n",
       "      <td>EUR/RUB</td>\n",
       "      <td>862375</td>\n",
       "      <td>-</td>\n",
       "      <td>863180</td>\n",
       "      <td>-0,09 %</td>\n",
       "      <td>-00805</td>\n",
       "      <td>22:13:00</td>\n",
       "    </tr>\n",
       "    <tr>\n",
       "      <th>2</th>\n",
       "      <td>NaN</td>\n",
       "      <td>USD/RUB</td>\n",
       "      <td>722589</td>\n",
       "      <td>-</td>\n",
       "      <td>723495</td>\n",
       "      <td>-0,13 %</td>\n",
       "      <td>-00906</td>\n",
       "      <td>22:20:00</td>\n",
       "    </tr>\n",
       "    <tr>\n",
       "      <th>3</th>\n",
       "      <td>NaN</td>\n",
       "      <td>JPY/RUB</td>\n",
       "      <td>06521</td>\n",
       "      <td>-</td>\n",
       "      <td>06527</td>\n",
       "      <td>-0,09 %</td>\n",
       "      <td>-00006</td>\n",
       "      <td>22:20:00</td>\n",
       "    </tr>\n",
       "    <tr>\n",
       "      <th>4</th>\n",
       "      <td>NaN</td>\n",
       "      <td>CNY/RUB</td>\n",
       "      <td>111921</td>\n",
       "      <td>-</td>\n",
       "      <td>111795</td>\n",
       "      <td>0,11 %</td>\n",
       "      <td>00126</td>\n",
       "      <td>22:20:00</td>\n",
       "    </tr>\n",
       "  </tbody>\n",
       "</table>\n",
       "</div>"
      ],
      "text/plain": [
       "   Unnamed: 0    Рубль Предложение Спрос Предыдущее закрытие        %  \\\n",
       "0         NaN  GBP/RUB     1003024     -             1007235  -0,42 %   \n",
       "1         NaN  EUR/RUB      862375     -              863180  -0,09 %   \n",
       "2         NaN  USD/RUB      722589     -              723495  -0,13 %   \n",
       "3         NaN  JPY/RUB       06521     -               06527  -0,09 %   \n",
       "4         NaN  CNY/RUB      111921     -              111795   0,11 %   \n",
       "\n",
       "  Абсолютное значение     Время  \n",
       "0              -04210  22:20:00  \n",
       "1              -00805  22:13:00  \n",
       "2              -00906  22:20:00  \n",
       "3              -00006  22:20:00  \n",
       "4               00126  22:20:00  "
      ]
     },
     "execution_count": 26,
     "metadata": {},
     "output_type": "execute_result"
    }
   ],
   "source": [
    "import pandas as pd\n",
    "\n",
    "data = pd.read_html('https://www.finanz.ru/valyuty/v-realnom-vremeni', encoding='utf8')[1]\n",
    "data.head()"
   ]
  },
  {
   "cell_type": "code",
   "execution_count": null,
   "metadata": {},
   "outputs": [],
   "source": []
  }
 ],
 "metadata": {
  "kernelspec": {
   "display_name": "Python 3",
   "language": "python",
   "name": "python3"
  },
  "language_info": {
   "codemirror_mode": {
    "name": "ipython",
    "version": 3
   },
   "file_extension": ".py",
   "mimetype": "text/x-python",
   "name": "python",
   "nbconvert_exporter": "python",
   "pygments_lexer": "ipython3",
   "version": "3.7.6"
  }
 },
 "nbformat": 4,
 "nbformat_minor": 4
}
